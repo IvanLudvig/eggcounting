{
  "nbformat": 4,
  "nbformat_minor": 0,
  "metadata": {
    "colab": {
      "name": "eggcounting.ipynb",
      "provenance": [],
      "mount_file_id": "1lFJJvBEqeF8RPOLUHCM8RkdEtyr3CkS1",
      "authorship_tag": "ABX9TyNYYfaDxxMQeNr/KZ4MRT6E",
      "include_colab_link": true
    },
    "kernelspec": {
      "name": "python3",
      "display_name": "Python 3"
    },
    "language_info": {
      "name": "python"
    }
  },
  "cells": [
    {
      "cell_type": "markdown",
      "metadata": {
        "id": "view-in-github",
        "colab_type": "text"
      },
      "source": [
        "<a href=\"https://colab.research.google.com/github/IvanLudvig/eggcounting/blob/master/eggcounting.ipynb\" target=\"_parent\"><img src=\"https://colab.research.google.com/assets/colab-badge.svg\" alt=\"Open In Colab\"/></a>"
      ]
    },
    {
      "cell_type": "code",
      "metadata": {
        "id": "YuW4CWLWvJ4t"
      },
      "source": [
        "import pandas as pd\n",
        "import numpy as np\n",
        "import json"
      ],
      "execution_count": null,
      "outputs": []
    },
    {
      "cell_type": "code",
      "metadata": {
        "id": "FodM1sDHwmWi"
      },
      "source": [
        "with open('/content/drive/MyDrive/eggcounting/data0.json') as f:\n",
        "    data = json.load(f)['messages']\n",
        "    df = pd.DataFrame(data)"
      ],
      "execution_count": null,
      "outputs": []
    },
    {
      "cell_type": "code",
      "metadata": {
        "id": "TghTINWTxVon"
      },
      "source": [
        "df = df[['id', 'timestamp', 'content', 'author']]"
      ],
      "execution_count": null,
      "outputs": []
    },
    {
      "cell_type": "code",
      "metadata": {
        "colab": {
          "base_uri": "https://localhost:8080/",
          "height": 206
        },
        "id": "Ivk99WcsxiFu",
        "outputId": "add149f9-2992-48e4-8547-b6f259b12248"
      },
      "source": [
        "df.head()"
      ],
      "execution_count": null,
      "outputs": [
        {
          "output_type": "execute_result",
          "data": {
            "text/html": [
              "<div>\n",
              "<style scoped>\n",
              "    .dataframe tbody tr th:only-of-type {\n",
              "        vertical-align: middle;\n",
              "    }\n",
              "\n",
              "    .dataframe tbody tr th {\n",
              "        vertical-align: top;\n",
              "    }\n",
              "\n",
              "    .dataframe thead th {\n",
              "        text-align: right;\n",
              "    }\n",
              "</style>\n",
              "<table border=\"1\" class=\"dataframe\">\n",
              "  <thead>\n",
              "    <tr style=\"text-align: right;\">\n",
              "      <th></th>\n",
              "      <th>id</th>\n",
              "      <th>timestamp</th>\n",
              "      <th>content</th>\n",
              "      <th>author</th>\n",
              "    </tr>\n",
              "  </thead>\n",
              "  <tbody>\n",
              "    <tr>\n",
              "      <th>0</th>\n",
              "      <td>886460807087550536</td>\n",
              "      <td>2021-09-12T03:58:46.055+00:00</td>\n",
              "      <td>1</td>\n",
              "      <td>{'id': '788951038971215924', 'name': 'thelegen...</td>\n",
              "    </tr>\n",
              "    <tr>\n",
              "      <th>1</th>\n",
              "      <td>886460808425537597</td>\n",
              "      <td>2021-09-12T03:58:46.374+00:00</td>\n",
              "      <td>2</td>\n",
              "      <td>{'id': '788951038971215924', 'name': 'thelegen...</td>\n",
              "    </tr>\n",
              "    <tr>\n",
              "      <th>2</th>\n",
              "      <td>886460810455580732</td>\n",
              "      <td>2021-09-12T03:58:46.858+00:00</td>\n",
              "      <td>3</td>\n",
              "      <td>{'id': '788951038971215924', 'name': 'thelegen...</td>\n",
              "    </tr>\n",
              "    <tr>\n",
              "      <th>3</th>\n",
              "      <td>886460811722227713</td>\n",
              "      <td>2021-09-12T03:58:47.16+00:00</td>\n",
              "      <td>4</td>\n",
              "      <td>{'id': '788951038971215924', 'name': 'thelegen...</td>\n",
              "    </tr>\n",
              "    <tr>\n",
              "      <th>4</th>\n",
              "      <td>886460813790023730</td>\n",
              "      <td>2021-09-12T03:58:47.653+00:00</td>\n",
              "      <td>5</td>\n",
              "      <td>{'id': '788951038971215924', 'name': 'thelegen...</td>\n",
              "    </tr>\n",
              "  </tbody>\n",
              "</table>\n",
              "</div>"
            ],
            "text/plain": [
              "                   id  ...                                             author\n",
              "0  886460807087550536  ...  {'id': '788951038971215924', 'name': 'thelegen...\n",
              "1  886460808425537597  ...  {'id': '788951038971215924', 'name': 'thelegen...\n",
              "2  886460810455580732  ...  {'id': '788951038971215924', 'name': 'thelegen...\n",
              "3  886460811722227713  ...  {'id': '788951038971215924', 'name': 'thelegen...\n",
              "4  886460813790023730  ...  {'id': '788951038971215924', 'name': 'thelegen...\n",
              "\n",
              "[5 rows x 4 columns]"
            ]
          },
          "metadata": {},
          "execution_count": 12
        }
      ]
    },
    {
      "cell_type": "code",
      "metadata": {
        "id": "HtQR1kIjzIh6"
      },
      "source": [
        "df['user'] = df['author'].map(lambda x: x['name'])"
      ],
      "execution_count": null,
      "outputs": []
    },
    {
      "cell_type": "code",
      "metadata": {
        "colab": {
          "base_uri": "https://localhost:8080/",
          "height": 206
        },
        "id": "4b-kkUT7zPxI",
        "outputId": "720c6f28-bdb9-4183-c57a-79d4fa580f3c"
      },
      "source": [
        "df.head()"
      ],
      "execution_count": null,
      "outputs": [
        {
          "output_type": "execute_result",
          "data": {
            "text/html": [
              "<div>\n",
              "<style scoped>\n",
              "    .dataframe tbody tr th:only-of-type {\n",
              "        vertical-align: middle;\n",
              "    }\n",
              "\n",
              "    .dataframe tbody tr th {\n",
              "        vertical-align: top;\n",
              "    }\n",
              "\n",
              "    .dataframe thead th {\n",
              "        text-align: right;\n",
              "    }\n",
              "</style>\n",
              "<table border=\"1\" class=\"dataframe\">\n",
              "  <thead>\n",
              "    <tr style=\"text-align: right;\">\n",
              "      <th></th>\n",
              "      <th>id</th>\n",
              "      <th>timestamp</th>\n",
              "      <th>content</th>\n",
              "      <th>author</th>\n",
              "      <th>user</th>\n",
              "    </tr>\n",
              "  </thead>\n",
              "  <tbody>\n",
              "    <tr>\n",
              "      <th>0</th>\n",
              "      <td>886460807087550536</td>\n",
              "      <td>2021-09-12T03:58:46.055+00:00</td>\n",
              "      <td>1</td>\n",
              "      <td>{'id': '788951038971215924', 'name': 'thelegen...</td>\n",
              "      <td>thelegendary08</td>\n",
              "    </tr>\n",
              "    <tr>\n",
              "      <th>1</th>\n",
              "      <td>886460808425537597</td>\n",
              "      <td>2021-09-12T03:58:46.374+00:00</td>\n",
              "      <td>2</td>\n",
              "      <td>{'id': '788951038971215924', 'name': 'thelegen...</td>\n",
              "      <td>thelegendary08</td>\n",
              "    </tr>\n",
              "    <tr>\n",
              "      <th>2</th>\n",
              "      <td>886460810455580732</td>\n",
              "      <td>2021-09-12T03:58:46.858+00:00</td>\n",
              "      <td>3</td>\n",
              "      <td>{'id': '788951038971215924', 'name': 'thelegen...</td>\n",
              "      <td>thelegendary08</td>\n",
              "    </tr>\n",
              "    <tr>\n",
              "      <th>3</th>\n",
              "      <td>886460811722227713</td>\n",
              "      <td>2021-09-12T03:58:47.16+00:00</td>\n",
              "      <td>4</td>\n",
              "      <td>{'id': '788951038971215924', 'name': 'thelegen...</td>\n",
              "      <td>thelegendary08</td>\n",
              "    </tr>\n",
              "    <tr>\n",
              "      <th>4</th>\n",
              "      <td>886460813790023730</td>\n",
              "      <td>2021-09-12T03:58:47.653+00:00</td>\n",
              "      <td>5</td>\n",
              "      <td>{'id': '788951038971215924', 'name': 'thelegen...</td>\n",
              "      <td>thelegendary08</td>\n",
              "    </tr>\n",
              "  </tbody>\n",
              "</table>\n",
              "</div>"
            ],
            "text/plain": [
              "                   id  ...            user\n",
              "0  886460807087550536  ...  thelegendary08\n",
              "1  886460808425537597  ...  thelegendary08\n",
              "2  886460810455580732  ...  thelegendary08\n",
              "3  886460811722227713  ...  thelegendary08\n",
              "4  886460813790023730  ...  thelegendary08\n",
              "\n",
              "[5 rows x 5 columns]"
            ]
          },
          "metadata": {},
          "execution_count": 14
        }
      ]
    },
    {
      "cell_type": "code",
      "metadata": {
        "colab": {
          "base_uri": "https://localhost:8080/"
        },
        "id": "jNLUwYsqy1bo",
        "outputId": "94395e10-df62-44d8-a713-37724afa50eb"
      },
      "source": [
        "df.groupby(['user']).size()"
      ],
      "execution_count": null,
      "outputs": [
        {
          "output_type": "execute_result",
          "data": {
            "text/plain": [
              "user\n",
              "0-0                        103\n",
              "Brendan7625                100\n",
              "Dawidluna                  312\n",
              "FortniteDude70             662\n",
              "GermanMgr14 [ARG]            1\n",
              "Grinch the mean one         34\n",
              "Keel                         1\n",
              "Lv.99 Kira                  51\n",
              "Pranoodles🍜 (she/her)     2505\n",
              "Solarϟ                       2\n",
              "Trial-Name                   6\n",
              "Whit4You                 22956\n",
              "anonymousdeveloper           2\n",
              "ben1996123                  18\n",
              "brainlet                 19928\n",
              "const                     3892\n",
              "core                       511\n",
              "country croocks            202\n",
              "nodu                       295\n",
              "ob69jl                    1715\n",
              "puds <3                      1\n",
              "purple [she/they]          221\n",
              "striker                   1571\n",
              "thelegendary08            3606\n",
              "upvoid                     253\n",
              "dtype: int64"
            ]
          },
          "metadata": {},
          "execution_count": 18
        }
      ]
    },
    {
      "cell_type": "code",
      "metadata": {
        "colab": {
          "base_uri": "https://localhost:8080/",
          "height": 424
        },
        "id": "m5NWuunlzR0g",
        "outputId": "e863c204-031f-48d8-d4bc-9479314c97e2"
      },
      "source": [
        "df.head()"
      ],
      "execution_count": null,
      "outputs": [
        {
          "output_type": "execute_result",
          "data": {
            "text/html": [
              "<div>\n",
              "<style scoped>\n",
              "    .dataframe tbody tr th:only-of-type {\n",
              "        vertical-align: middle;\n",
              "    }\n",
              "\n",
              "    .dataframe tbody tr th {\n",
              "        vertical-align: top;\n",
              "    }\n",
              "\n",
              "    .dataframe thead th {\n",
              "        text-align: right;\n",
              "    }\n",
              "</style>\n",
              "<table border=\"1\" class=\"dataframe\">\n",
              "  <thead>\n",
              "    <tr style=\"text-align: right;\">\n",
              "      <th></th>\n",
              "      <th>id</th>\n",
              "      <th>timestamp</th>\n",
              "      <th>content</th>\n",
              "      <th>author</th>\n",
              "      <th>user</th>\n",
              "    </tr>\n",
              "  </thead>\n",
              "  <tbody>\n",
              "    <tr>\n",
              "      <th>0</th>\n",
              "      <td>886460807087550536</td>\n",
              "      <td>2021-09-12T03:58:46.055+00:00</td>\n",
              "      <td>1</td>\n",
              "      <td>{'id': '788951038971215924', 'name': 'thelegen...</td>\n",
              "      <td>thelegendary08</td>\n",
              "    </tr>\n",
              "    <tr>\n",
              "      <th>1</th>\n",
              "      <td>886460808425537597</td>\n",
              "      <td>2021-09-12T03:58:46.374+00:00</td>\n",
              "      <td>2</td>\n",
              "      <td>{'id': '788951038971215924', 'name': 'thelegen...</td>\n",
              "      <td>thelegendary08</td>\n",
              "    </tr>\n",
              "    <tr>\n",
              "      <th>2</th>\n",
              "      <td>886460810455580732</td>\n",
              "      <td>2021-09-12T03:58:46.858+00:00</td>\n",
              "      <td>3</td>\n",
              "      <td>{'id': '788951038971215924', 'name': 'thelegen...</td>\n",
              "      <td>thelegendary08</td>\n",
              "    </tr>\n",
              "    <tr>\n",
              "      <th>3</th>\n",
              "      <td>886460811722227713</td>\n",
              "      <td>2021-09-12T03:58:47.16+00:00</td>\n",
              "      <td>4</td>\n",
              "      <td>{'id': '788951038971215924', 'name': 'thelegen...</td>\n",
              "      <td>thelegendary08</td>\n",
              "    </tr>\n",
              "    <tr>\n",
              "      <th>4</th>\n",
              "      <td>886460813790023730</td>\n",
              "      <td>2021-09-12T03:58:47.653+00:00</td>\n",
              "      <td>5</td>\n",
              "      <td>{'id': '788951038971215924', 'name': 'thelegen...</td>\n",
              "      <td>thelegendary08</td>\n",
              "    </tr>\n",
              "    <tr>\n",
              "      <th>...</th>\n",
              "      <td>...</td>\n",
              "      <td>...</td>\n",
              "      <td>...</td>\n",
              "      <td>...</td>\n",
              "      <td>...</td>\n",
              "    </tr>\n",
              "    <tr>\n",
              "      <th>56022</th>\n",
              "      <td>892996985773236255</td>\n",
              "      <td>2021-09-30T04:51:12.49+00:00</td>\n",
              "      <td>55956</td>\n",
              "      <td>{'id': '372494574184300565', 'name': 'Keel', '...</td>\n",
              "      <td>Keel</td>\n",
              "    </tr>\n",
              "    <tr>\n",
              "      <th>57814</th>\n",
              "      <td>893139993927749702</td>\n",
              "      <td>2021-09-30T14:19:28.291+00:00</td>\n",
              "      <td>57746</td>\n",
              "      <td>{'id': '285518936219582474', 'name': 'Trial-Na...</td>\n",
              "      <td>Trial-Name</td>\n",
              "    </tr>\n",
              "    <tr>\n",
              "      <th>57815</th>\n",
              "      <td>893140013980717056</td>\n",
              "      <td>2021-09-30T14:19:33.072+00:00</td>\n",
              "      <td>57747</td>\n",
              "      <td>{'id': '285518936219582474', 'name': 'Trial-Na...</td>\n",
              "      <td>Trial-Name</td>\n",
              "    </tr>\n",
              "    <tr>\n",
              "      <th>57816</th>\n",
              "      <td>893140018892251156</td>\n",
              "      <td>2021-09-30T14:19:34.243+00:00</td>\n",
              "      <td>57748</td>\n",
              "      <td>{'id': '285518936219582474', 'name': 'Trial-Na...</td>\n",
              "      <td>Trial-Name</td>\n",
              "    </tr>\n",
              "    <tr>\n",
              "      <th>57817</th>\n",
              "      <td>893140022092529736</td>\n",
              "      <td>2021-09-30T14:19:35.006+00:00</td>\n",
              "      <td>57749</td>\n",
              "      <td>{'id': '285518936219582474', 'name': 'Trial-Na...</td>\n",
              "      <td>Trial-Name</td>\n",
              "    </tr>\n",
              "  </tbody>\n",
              "</table>\n",
              "<p>107 rows × 5 columns</p>\n",
              "</div>"
            ],
            "text/plain": [
              "                       id  ...            user\n",
              "0      886460807087550536  ...  thelegendary08\n",
              "1      886460808425537597  ...  thelegendary08\n",
              "2      886460810455580732  ...  thelegendary08\n",
              "3      886460811722227713  ...  thelegendary08\n",
              "4      886460813790023730  ...  thelegendary08\n",
              "...                   ...  ...             ...\n",
              "56022  892996985773236255  ...            Keel\n",
              "57814  893139993927749702  ...      Trial-Name\n",
              "57815  893140013980717056  ...      Trial-Name\n",
              "57816  893140018892251156  ...      Trial-Name\n",
              "57817  893140022092529736  ...      Trial-Name\n",
              "\n",
              "[107 rows x 5 columns]"
            ]
          },
          "metadata": {},
          "execution_count": 8
        }
      ]
    }
  ]
}