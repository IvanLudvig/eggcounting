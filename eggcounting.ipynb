{
  "nbformat": 4,
  "nbformat_minor": 0,
  "metadata": {
    "colab": {
      "name": "eggcounting.ipynb",
      "provenance": [],
      "mount_file_id": "1lFJJvBEqeF8RPOLUHCM8RkdEtyr3CkS1",
      "authorship_tag": "ABX9TyPiCXve1RM/masg20JiU5d3",
      "include_colab_link": true
    },
    "kernelspec": {
      "name": "python3",
      "display_name": "Python 3"
    },
    "language_info": {
      "name": "python"
    }
  },
  "cells": [
    {
      "cell_type": "markdown",
      "metadata": {
        "id": "view-in-github",
        "colab_type": "text"
      },
      "source": [
        "<a href=\"https://colab.research.google.com/github/IvanLudvig/eggcounting/blob/master/eggcounting.ipynb\" target=\"_parent\"><img src=\"https://colab.research.google.com/assets/colab-badge.svg\" alt=\"Open In Colab\"/></a>"
      ]
    },
    {
      "cell_type": "code",
      "metadata": {
        "id": "YuW4CWLWvJ4t"
      },
      "source": [
        "import pandas as pd\n",
        "import numpy as np\n",
        "import json\n",
        "from datetime import datetime"
      ],
      "execution_count": 1,
      "outputs": []
    },
    {
      "cell_type": "code",
      "metadata": {
        "id": "FodM1sDHwmWi"
      },
      "source": [
        "with open('/content/drive/MyDrive/eggcounting/data0.json') as f:\n",
        "    data = json.load(f)['messages']\n",
        "    df = pd.DataFrame(data)"
      ],
      "execution_count": 2,
      "outputs": []
    },
    {
      "cell_type": "code",
      "metadata": {
        "colab": {
          "base_uri": "https://localhost:8080/",
          "height": 597
        },
        "id": "Ivk99WcsxiFu",
        "outputId": "50c5e168-6905-4d31-d41d-72cb3e1dcf81"
      },
      "source": [
        "df"
      ],
      "execution_count": 3,
      "outputs": [
        {
          "output_type": "execute_result",
          "data": {
            "text/html": [
              "<div>\n",
              "<style scoped>\n",
              "    .dataframe tbody tr th:only-of-type {\n",
              "        vertical-align: middle;\n",
              "    }\n",
              "\n",
              "    .dataframe tbody tr th {\n",
              "        vertical-align: top;\n",
              "    }\n",
              "\n",
              "    .dataframe thead th {\n",
              "        text-align: right;\n",
              "    }\n",
              "</style>\n",
              "<table border=\"1\" class=\"dataframe\">\n",
              "  <thead>\n",
              "    <tr style=\"text-align: right;\">\n",
              "      <th></th>\n",
              "      <th>id</th>\n",
              "      <th>type</th>\n",
              "      <th>timestamp</th>\n",
              "      <th>timestampEdited</th>\n",
              "      <th>callEndedTimestamp</th>\n",
              "      <th>isPinned</th>\n",
              "      <th>content</th>\n",
              "      <th>author</th>\n",
              "      <th>attachments</th>\n",
              "      <th>embeds</th>\n",
              "      <th>reactions</th>\n",
              "      <th>mentions</th>\n",
              "      <th>reference</th>\n",
              "    </tr>\n",
              "  </thead>\n",
              "  <tbody>\n",
              "    <tr>\n",
              "      <th>0</th>\n",
              "      <td>886460807087550536</td>\n",
              "      <td>Default</td>\n",
              "      <td>2021-09-12T03:58:46.055+00:00</td>\n",
              "      <td>None</td>\n",
              "      <td>None</td>\n",
              "      <td>False</td>\n",
              "      <td>1</td>\n",
              "      <td>{'id': '788951038971215924', 'name': 'thelegen...</td>\n",
              "      <td>[]</td>\n",
              "      <td>[]</td>\n",
              "      <td>[]</td>\n",
              "      <td>[]</td>\n",
              "      <td>NaN</td>\n",
              "    </tr>\n",
              "    <tr>\n",
              "      <th>1</th>\n",
              "      <td>886460808425537597</td>\n",
              "      <td>Default</td>\n",
              "      <td>2021-09-12T03:58:46.374+00:00</td>\n",
              "      <td>None</td>\n",
              "      <td>None</td>\n",
              "      <td>False</td>\n",
              "      <td>2</td>\n",
              "      <td>{'id': '788951038971215924', 'name': 'thelegen...</td>\n",
              "      <td>[]</td>\n",
              "      <td>[]</td>\n",
              "      <td>[]</td>\n",
              "      <td>[]</td>\n",
              "      <td>NaN</td>\n",
              "    </tr>\n",
              "    <tr>\n",
              "      <th>2</th>\n",
              "      <td>886460810455580732</td>\n",
              "      <td>Default</td>\n",
              "      <td>2021-09-12T03:58:46.858+00:00</td>\n",
              "      <td>None</td>\n",
              "      <td>None</td>\n",
              "      <td>False</td>\n",
              "      <td>3</td>\n",
              "      <td>{'id': '788951038971215924', 'name': 'thelegen...</td>\n",
              "      <td>[]</td>\n",
              "      <td>[]</td>\n",
              "      <td>[]</td>\n",
              "      <td>[]</td>\n",
              "      <td>NaN</td>\n",
              "    </tr>\n",
              "    <tr>\n",
              "      <th>3</th>\n",
              "      <td>886460811722227713</td>\n",
              "      <td>Default</td>\n",
              "      <td>2021-09-12T03:58:47.16+00:00</td>\n",
              "      <td>None</td>\n",
              "      <td>None</td>\n",
              "      <td>False</td>\n",
              "      <td>4</td>\n",
              "      <td>{'id': '788951038971215924', 'name': 'thelegen...</td>\n",
              "      <td>[]</td>\n",
              "      <td>[]</td>\n",
              "      <td>[]</td>\n",
              "      <td>[]</td>\n",
              "      <td>NaN</td>\n",
              "    </tr>\n",
              "    <tr>\n",
              "      <th>4</th>\n",
              "      <td>886460813790023730</td>\n",
              "      <td>Default</td>\n",
              "      <td>2021-09-12T03:58:47.653+00:00</td>\n",
              "      <td>None</td>\n",
              "      <td>None</td>\n",
              "      <td>False</td>\n",
              "      <td>5</td>\n",
              "      <td>{'id': '788951038971215924', 'name': 'thelegen...</td>\n",
              "      <td>[]</td>\n",
              "      <td>[]</td>\n",
              "      <td>[]</td>\n",
              "      <td>[]</td>\n",
              "      <td>NaN</td>\n",
              "    </tr>\n",
              "    <tr>\n",
              "      <th>...</th>\n",
              "      <td>...</td>\n",
              "      <td>...</td>\n",
              "      <td>...</td>\n",
              "      <td>...</td>\n",
              "      <td>...</td>\n",
              "      <td>...</td>\n",
              "      <td>...</td>\n",
              "      <td>...</td>\n",
              "      <td>...</td>\n",
              "      <td>...</td>\n",
              "      <td>...</td>\n",
              "      <td>...</td>\n",
              "      <td>...</td>\n",
              "    </tr>\n",
              "    <tr>\n",
              "      <th>58943</th>\n",
              "      <td>893185301395148881</td>\n",
              "      <td>Default</td>\n",
              "      <td>2021-09-30T17:19:30.433+00:00</td>\n",
              "      <td>None</td>\n",
              "      <td>None</td>\n",
              "      <td>False</td>\n",
              "      <td>58876</td>\n",
              "      <td>{'id': '690314276963090532', 'name': 'nodu', '...</td>\n",
              "      <td>[]</td>\n",
              "      <td>[]</td>\n",
              "      <td>[]</td>\n",
              "      <td>[]</td>\n",
              "      <td>NaN</td>\n",
              "    </tr>\n",
              "    <tr>\n",
              "      <th>58944</th>\n",
              "      <td>893185305639784469</td>\n",
              "      <td>Default</td>\n",
              "      <td>2021-09-30T17:19:31.445+00:00</td>\n",
              "      <td>None</td>\n",
              "      <td>None</td>\n",
              "      <td>False</td>\n",
              "      <td>58877</td>\n",
              "      <td>{'id': '690314276963090532', 'name': 'nodu', '...</td>\n",
              "      <td>[]</td>\n",
              "      <td>[]</td>\n",
              "      <td>[]</td>\n",
              "      <td>[]</td>\n",
              "      <td>NaN</td>\n",
              "    </tr>\n",
              "    <tr>\n",
              "      <th>58945</th>\n",
              "      <td>893185310219964506</td>\n",
              "      <td>Default</td>\n",
              "      <td>2021-09-30T17:19:32.537+00:00</td>\n",
              "      <td>None</td>\n",
              "      <td>None</td>\n",
              "      <td>False</td>\n",
              "      <td>58878</td>\n",
              "      <td>{'id': '690314276963090532', 'name': 'nodu', '...</td>\n",
              "      <td>[]</td>\n",
              "      <td>[]</td>\n",
              "      <td>[]</td>\n",
              "      <td>[]</td>\n",
              "      <td>NaN</td>\n",
              "    </tr>\n",
              "    <tr>\n",
              "      <th>58946</th>\n",
              "      <td>893185314535915550</td>\n",
              "      <td>Default</td>\n",
              "      <td>2021-09-30T17:19:33.566+00:00</td>\n",
              "      <td>None</td>\n",
              "      <td>None</td>\n",
              "      <td>False</td>\n",
              "      <td>58879</td>\n",
              "      <td>{'id': '690314276963090532', 'name': 'nodu', '...</td>\n",
              "      <td>[]</td>\n",
              "      <td>[]</td>\n",
              "      <td>[]</td>\n",
              "      <td>[]</td>\n",
              "      <td>NaN</td>\n",
              "    </tr>\n",
              "    <tr>\n",
              "      <th>58947</th>\n",
              "      <td>893185321032908811</td>\n",
              "      <td>Default</td>\n",
              "      <td>2021-09-30T17:19:35.115+00:00</td>\n",
              "      <td>None</td>\n",
              "      <td>None</td>\n",
              "      <td>False</td>\n",
              "      <td>58880</td>\n",
              "      <td>{'id': '690314276963090532', 'name': 'nodu', '...</td>\n",
              "      <td>[]</td>\n",
              "      <td>[]</td>\n",
              "      <td>[]</td>\n",
              "      <td>[]</td>\n",
              "      <td>NaN</td>\n",
              "    </tr>\n",
              "  </tbody>\n",
              "</table>\n",
              "<p>58948 rows × 13 columns</p>\n",
              "</div>"
            ],
            "text/plain": [
              "                       id     type  ... mentions reference\n",
              "0      886460807087550536  Default  ...       []       NaN\n",
              "1      886460808425537597  Default  ...       []       NaN\n",
              "2      886460810455580732  Default  ...       []       NaN\n",
              "3      886460811722227713  Default  ...       []       NaN\n",
              "4      886460813790023730  Default  ...       []       NaN\n",
              "...                   ...      ...  ...      ...       ...\n",
              "58943  893185301395148881  Default  ...       []       NaN\n",
              "58944  893185305639784469  Default  ...       []       NaN\n",
              "58945  893185310219964506  Default  ...       []       NaN\n",
              "58946  893185314535915550  Default  ...       []       NaN\n",
              "58947  893185321032908811  Default  ...       []       NaN\n",
              "\n",
              "[58948 rows x 13 columns]"
            ]
          },
          "metadata": {},
          "execution_count": 3
        }
      ]
    },
    {
      "cell_type": "code",
      "metadata": {
        "id": "HtQR1kIjzIh6"
      },
      "source": [
        "df['user'] = df['author'].map(lambda x: x['name'])"
      ],
      "execution_count": 4,
      "outputs": []
    },
    {
      "cell_type": "code",
      "metadata": {
        "id": "h-WQRngLPZiT"
      },
      "source": [
        "df = df[['id', 'timestamp', 'content', 'user']]"
      ],
      "execution_count": 5,
      "outputs": []
    },
    {
      "cell_type": "markdown",
      "metadata": {
        "id": "Z2Gc0rQhQb18"
      },
      "source": [
        "filter only valid counts"
      ]
    },
    {
      "cell_type": "code",
      "metadata": {
        "id": "xIzRkIiVPypo"
      },
      "source": [
        "df = df[df['content'].str.isnumeric()]"
      ],
      "execution_count": 6,
      "outputs": []
    },
    {
      "cell_type": "markdown",
      "metadata": {
        "id": "UtjeqXvBQ2fQ"
      },
      "source": [
        "# Total counts"
      ]
    },
    {
      "cell_type": "code",
      "metadata": {
        "id": "jNLUwYsqy1bo"
      },
      "source": [
        "counts_df = df['user'].value_counts(sort=True).reset_index()\n",
        "counts_df.columns = ['user', 'counts']"
      ],
      "execution_count": 7,
      "outputs": []
    },
    {
      "cell_type": "code",
      "metadata": {
        "colab": {
          "base_uri": "https://localhost:8080/",
          "height": 834
        },
        "id": "AHA4sWNSPALO",
        "outputId": "7ea3293c-f10f-4420-c110-c64e9621b96a"
      },
      "source": [
        "counts_df"
      ],
      "execution_count": 8,
      "outputs": [
        {
          "output_type": "execute_result",
          "data": {
            "text/html": [
              "<div>\n",
              "<style scoped>\n",
              "    .dataframe tbody tr th:only-of-type {\n",
              "        vertical-align: middle;\n",
              "    }\n",
              "\n",
              "    .dataframe tbody tr th {\n",
              "        vertical-align: top;\n",
              "    }\n",
              "\n",
              "    .dataframe thead th {\n",
              "        text-align: right;\n",
              "    }\n",
              "</style>\n",
              "<table border=\"1\" class=\"dataframe\">\n",
              "  <thead>\n",
              "    <tr style=\"text-align: right;\">\n",
              "      <th></th>\n",
              "      <th>user</th>\n",
              "      <th>counts</th>\n",
              "    </tr>\n",
              "  </thead>\n",
              "  <tbody>\n",
              "    <tr>\n",
              "      <th>0</th>\n",
              "      <td>Whit4You</td>\n",
              "      <td>22955</td>\n",
              "    </tr>\n",
              "    <tr>\n",
              "      <th>1</th>\n",
              "      <td>brainlet</td>\n",
              "      <td>19926</td>\n",
              "    </tr>\n",
              "    <tr>\n",
              "      <th>2</th>\n",
              "      <td>const</td>\n",
              "      <td>3892</td>\n",
              "    </tr>\n",
              "    <tr>\n",
              "      <th>3</th>\n",
              "      <td>thelegendary08</td>\n",
              "      <td>3605</td>\n",
              "    </tr>\n",
              "    <tr>\n",
              "      <th>4</th>\n",
              "      <td>Pranoodles🍜 (she/her)</td>\n",
              "      <td>2505</td>\n",
              "    </tr>\n",
              "    <tr>\n",
              "      <th>5</th>\n",
              "      <td>ob69jl</td>\n",
              "      <td>1715</td>\n",
              "    </tr>\n",
              "    <tr>\n",
              "      <th>6</th>\n",
              "      <td>striker</td>\n",
              "      <td>1571</td>\n",
              "    </tr>\n",
              "    <tr>\n",
              "      <th>7</th>\n",
              "      <td>FortniteDude70</td>\n",
              "      <td>658</td>\n",
              "    </tr>\n",
              "    <tr>\n",
              "      <th>8</th>\n",
              "      <td>core</td>\n",
              "      <td>511</td>\n",
              "    </tr>\n",
              "    <tr>\n",
              "      <th>9</th>\n",
              "      <td>Dawidluna</td>\n",
              "      <td>312</td>\n",
              "    </tr>\n",
              "    <tr>\n",
              "      <th>10</th>\n",
              "      <td>nodu</td>\n",
              "      <td>295</td>\n",
              "    </tr>\n",
              "    <tr>\n",
              "      <th>11</th>\n",
              "      <td>upvoid</td>\n",
              "      <td>253</td>\n",
              "    </tr>\n",
              "    <tr>\n",
              "      <th>12</th>\n",
              "      <td>purple [she/they]</td>\n",
              "      <td>221</td>\n",
              "    </tr>\n",
              "    <tr>\n",
              "      <th>13</th>\n",
              "      <td>country croocks</td>\n",
              "      <td>202</td>\n",
              "    </tr>\n",
              "    <tr>\n",
              "      <th>14</th>\n",
              "      <td>0-0</td>\n",
              "      <td>103</td>\n",
              "    </tr>\n",
              "    <tr>\n",
              "      <th>15</th>\n",
              "      <td>Brendan7625</td>\n",
              "      <td>100</td>\n",
              "    </tr>\n",
              "    <tr>\n",
              "      <th>16</th>\n",
              "      <td>Lv.99 Kira</td>\n",
              "      <td>51</td>\n",
              "    </tr>\n",
              "    <tr>\n",
              "      <th>17</th>\n",
              "      <td>Grinch the mean one</td>\n",
              "      <td>34</td>\n",
              "    </tr>\n",
              "    <tr>\n",
              "      <th>18</th>\n",
              "      <td>ben1996123</td>\n",
              "      <td>18</td>\n",
              "    </tr>\n",
              "    <tr>\n",
              "      <th>19</th>\n",
              "      <td>Trial-Name</td>\n",
              "      <td>6</td>\n",
              "    </tr>\n",
              "    <tr>\n",
              "      <th>20</th>\n",
              "      <td>Solarϟ</td>\n",
              "      <td>2</td>\n",
              "    </tr>\n",
              "    <tr>\n",
              "      <th>21</th>\n",
              "      <td>anonymousdeveloper</td>\n",
              "      <td>2</td>\n",
              "    </tr>\n",
              "    <tr>\n",
              "      <th>22</th>\n",
              "      <td>puds &lt;3</td>\n",
              "      <td>1</td>\n",
              "    </tr>\n",
              "    <tr>\n",
              "      <th>23</th>\n",
              "      <td>Keel</td>\n",
              "      <td>1</td>\n",
              "    </tr>\n",
              "    <tr>\n",
              "      <th>24</th>\n",
              "      <td>GermanMgr14 [ARG]</td>\n",
              "      <td>1</td>\n",
              "    </tr>\n",
              "  </tbody>\n",
              "</table>\n",
              "</div>"
            ],
            "text/plain": [
              "                     user  counts\n",
              "0                Whit4You   22955\n",
              "1                brainlet   19926\n",
              "2                   const    3892\n",
              "3          thelegendary08    3605\n",
              "4   Pranoodles🍜 (she/her)    2505\n",
              "5                  ob69jl    1715\n",
              "6                 striker    1571\n",
              "7          FortniteDude70     658\n",
              "8                    core     511\n",
              "9               Dawidluna     312\n",
              "10                   nodu     295\n",
              "11                 upvoid     253\n",
              "12      purple [she/they]     221\n",
              "13        country croocks     202\n",
              "14                    0-0     103\n",
              "15            Brendan7625     100\n",
              "16             Lv.99 Kira      51\n",
              "17    Grinch the mean one      34\n",
              "18             ben1996123      18\n",
              "19             Trial-Name       6\n",
              "20                 Solarϟ       2\n",
              "21     anonymousdeveloper       2\n",
              "22                puds <3       1\n",
              "23                   Keel       1\n",
              "24      GermanMgr14 [ARG]       1"
            ]
          },
          "metadata": {},
          "execution_count": 8
        }
      ]
    },
    {
      "cell_type": "markdown",
      "metadata": {
        "id": "49AgZWq9Q6m9"
      },
      "source": [
        "# 1K days"
      ]
    },
    {
      "cell_type": "code",
      "metadata": {
        "colab": {
          "base_uri": "https://localhost:8080/",
          "height": 206
        },
        "id": "u6oVTHveQxhZ",
        "outputId": "7fb58fd8-335b-4ce4-ac23-00c2eee8966f"
      },
      "source": [
        "df.head()"
      ],
      "execution_count": 9,
      "outputs": [
        {
          "output_type": "execute_result",
          "data": {
            "text/html": [
              "<div>\n",
              "<style scoped>\n",
              "    .dataframe tbody tr th:only-of-type {\n",
              "        vertical-align: middle;\n",
              "    }\n",
              "\n",
              "    .dataframe tbody tr th {\n",
              "        vertical-align: top;\n",
              "    }\n",
              "\n",
              "    .dataframe thead th {\n",
              "        text-align: right;\n",
              "    }\n",
              "</style>\n",
              "<table border=\"1\" class=\"dataframe\">\n",
              "  <thead>\n",
              "    <tr style=\"text-align: right;\">\n",
              "      <th></th>\n",
              "      <th>id</th>\n",
              "      <th>timestamp</th>\n",
              "      <th>content</th>\n",
              "      <th>user</th>\n",
              "    </tr>\n",
              "  </thead>\n",
              "  <tbody>\n",
              "    <tr>\n",
              "      <th>0</th>\n",
              "      <td>886460807087550536</td>\n",
              "      <td>2021-09-12T03:58:46.055+00:00</td>\n",
              "      <td>1</td>\n",
              "      <td>thelegendary08</td>\n",
              "    </tr>\n",
              "    <tr>\n",
              "      <th>1</th>\n",
              "      <td>886460808425537597</td>\n",
              "      <td>2021-09-12T03:58:46.374+00:00</td>\n",
              "      <td>2</td>\n",
              "      <td>thelegendary08</td>\n",
              "    </tr>\n",
              "    <tr>\n",
              "      <th>2</th>\n",
              "      <td>886460810455580732</td>\n",
              "      <td>2021-09-12T03:58:46.858+00:00</td>\n",
              "      <td>3</td>\n",
              "      <td>thelegendary08</td>\n",
              "    </tr>\n",
              "    <tr>\n",
              "      <th>3</th>\n",
              "      <td>886460811722227713</td>\n",
              "      <td>2021-09-12T03:58:47.16+00:00</td>\n",
              "      <td>4</td>\n",
              "      <td>thelegendary08</td>\n",
              "    </tr>\n",
              "    <tr>\n",
              "      <th>4</th>\n",
              "      <td>886460813790023730</td>\n",
              "      <td>2021-09-12T03:58:47.653+00:00</td>\n",
              "      <td>5</td>\n",
              "      <td>thelegendary08</td>\n",
              "    </tr>\n",
              "  </tbody>\n",
              "</table>\n",
              "</div>"
            ],
            "text/plain": [
              "                   id                      timestamp content            user\n",
              "0  886460807087550536  2021-09-12T03:58:46.055+00:00       1  thelegendary08\n",
              "1  886460808425537597  2021-09-12T03:58:46.374+00:00       2  thelegendary08\n",
              "2  886460810455580732  2021-09-12T03:58:46.858+00:00       3  thelegendary08\n",
              "3  886460811722227713   2021-09-12T03:58:47.16+00:00       4  thelegendary08\n",
              "4  886460813790023730  2021-09-12T03:58:47.653+00:00       5  thelegendary08"
            ]
          },
          "metadata": {},
          "execution_count": 9
        }
      ]
    },
    {
      "cell_type": "code",
      "metadata": {
        "id": "rKcF9IfcRPD1"
      },
      "source": [
        "df['date'] = df['timestamp'].apply(lambda ts: ts.split('T')[0])"
      ],
      "execution_count": 10,
      "outputs": []
    },
    {
      "cell_type": "code",
      "metadata": {
        "colab": {
          "base_uri": "https://localhost:8080/",
          "height": 206
        },
        "id": "Mkfp9ckfRkWN",
        "outputId": "4e781de7-dd5b-43f6-ae0c-bb6ad737abc1"
      },
      "source": [
        "days_df = df[['user', 'date']]\n",
        "days_df.head()"
      ],
      "execution_count": 11,
      "outputs": [
        {
          "output_type": "execute_result",
          "data": {
            "text/html": [
              "<div>\n",
              "<style scoped>\n",
              "    .dataframe tbody tr th:only-of-type {\n",
              "        vertical-align: middle;\n",
              "    }\n",
              "\n",
              "    .dataframe tbody tr th {\n",
              "        vertical-align: top;\n",
              "    }\n",
              "\n",
              "    .dataframe thead th {\n",
              "        text-align: right;\n",
              "    }\n",
              "</style>\n",
              "<table border=\"1\" class=\"dataframe\">\n",
              "  <thead>\n",
              "    <tr style=\"text-align: right;\">\n",
              "      <th></th>\n",
              "      <th>user</th>\n",
              "      <th>date</th>\n",
              "    </tr>\n",
              "  </thead>\n",
              "  <tbody>\n",
              "    <tr>\n",
              "      <th>0</th>\n",
              "      <td>thelegendary08</td>\n",
              "      <td>2021-09-12</td>\n",
              "    </tr>\n",
              "    <tr>\n",
              "      <th>1</th>\n",
              "      <td>thelegendary08</td>\n",
              "      <td>2021-09-12</td>\n",
              "    </tr>\n",
              "    <tr>\n",
              "      <th>2</th>\n",
              "      <td>thelegendary08</td>\n",
              "      <td>2021-09-12</td>\n",
              "    </tr>\n",
              "    <tr>\n",
              "      <th>3</th>\n",
              "      <td>thelegendary08</td>\n",
              "      <td>2021-09-12</td>\n",
              "    </tr>\n",
              "    <tr>\n",
              "      <th>4</th>\n",
              "      <td>thelegendary08</td>\n",
              "      <td>2021-09-12</td>\n",
              "    </tr>\n",
              "  </tbody>\n",
              "</table>\n",
              "</div>"
            ],
            "text/plain": [
              "             user        date\n",
              "0  thelegendary08  2021-09-12\n",
              "1  thelegendary08  2021-09-12\n",
              "2  thelegendary08  2021-09-12\n",
              "3  thelegendary08  2021-09-12\n",
              "4  thelegendary08  2021-09-12"
            ]
          },
          "metadata": {},
          "execution_count": 11
        }
      ]
    },
    {
      "cell_type": "code",
      "metadata": {
        "colab": {
          "base_uri": "https://localhost:8080/",
          "height": 206
        },
        "id": "unWdk0SLRojn",
        "outputId": "2842574a-ac36-4376-bc28-5dcecde988b1"
      },
      "source": [
        "group = days_df.groupby('user')\n",
        "group = group.apply(lambda x: x['date'].to_numpy()).reset_index()\n",
        "group.columns = ['user', 'dates']\n",
        "group.head()"
      ],
      "execution_count": 12,
      "outputs": [
        {
          "output_type": "execute_result",
          "data": {
            "text/html": [
              "<div>\n",
              "<style scoped>\n",
              "    .dataframe tbody tr th:only-of-type {\n",
              "        vertical-align: middle;\n",
              "    }\n",
              "\n",
              "    .dataframe tbody tr th {\n",
              "        vertical-align: top;\n",
              "    }\n",
              "\n",
              "    .dataframe thead th {\n",
              "        text-align: right;\n",
              "    }\n",
              "</style>\n",
              "<table border=\"1\" class=\"dataframe\">\n",
              "  <thead>\n",
              "    <tr style=\"text-align: right;\">\n",
              "      <th></th>\n",
              "      <th>user</th>\n",
              "      <th>dates</th>\n",
              "    </tr>\n",
              "  </thead>\n",
              "  <tbody>\n",
              "    <tr>\n",
              "      <th>0</th>\n",
              "      <td>0-0</td>\n",
              "      <td>[2021-09-12, 2021-09-12, 2021-09-12, 2021-09-1...</td>\n",
              "    </tr>\n",
              "    <tr>\n",
              "      <th>1</th>\n",
              "      <td>Brendan7625</td>\n",
              "      <td>[2021-09-18, 2021-09-18, 2021-09-18, 2021-09-1...</td>\n",
              "    </tr>\n",
              "    <tr>\n",
              "      <th>2</th>\n",
              "      <td>Dawidluna</td>\n",
              "      <td>[2021-09-16, 2021-09-16, 2021-09-16, 2021-09-1...</td>\n",
              "    </tr>\n",
              "    <tr>\n",
              "      <th>3</th>\n",
              "      <td>FortniteDude70</td>\n",
              "      <td>[2021-09-12, 2021-09-12, 2021-09-12, 2021-09-1...</td>\n",
              "    </tr>\n",
              "    <tr>\n",
              "      <th>4</th>\n",
              "      <td>GermanMgr14 [ARG]</td>\n",
              "      <td>[2021-09-18]</td>\n",
              "    </tr>\n",
              "  </tbody>\n",
              "</table>\n",
              "</div>"
            ],
            "text/plain": [
              "                user                                              dates\n",
              "0                0-0  [2021-09-12, 2021-09-12, 2021-09-12, 2021-09-1...\n",
              "1        Brendan7625  [2021-09-18, 2021-09-18, 2021-09-18, 2021-09-1...\n",
              "2          Dawidluna  [2021-09-16, 2021-09-16, 2021-09-16, 2021-09-1...\n",
              "3     FortniteDude70  [2021-09-12, 2021-09-12, 2021-09-12, 2021-09-1...\n",
              "4  GermanMgr14 [ARG]                                       [2021-09-18]"
            ]
          },
          "metadata": {},
          "execution_count": 12
        }
      ]
    },
    {
      "cell_type": "code",
      "metadata": {
        "id": "Ng9MzxqPTHp-"
      },
      "source": [
        "for date in days_df['date'].unique():\n",
        "    group[date] = group['dates'].map(lambda x: (x == date).sum())"
      ],
      "execution_count": 13,
      "outputs": []
    },
    {
      "cell_type": "code",
      "metadata": {
        "colab": {
          "base_uri": "https://localhost:8080/",
          "height": 244
        },
        "id": "pfHaykkJULc2",
        "outputId": "38860698-54f8-4090-be08-f23b34e92c52"
      },
      "source": [
        "group = group.drop(columns=['dates'])\n",
        "group.head()"
      ],
      "execution_count": 14,
      "outputs": [
        {
          "output_type": "execute_result",
          "data": {
            "text/html": [
              "<div>\n",
              "<style scoped>\n",
              "    .dataframe tbody tr th:only-of-type {\n",
              "        vertical-align: middle;\n",
              "    }\n",
              "\n",
              "    .dataframe tbody tr th {\n",
              "        vertical-align: top;\n",
              "    }\n",
              "\n",
              "    .dataframe thead th {\n",
              "        text-align: right;\n",
              "    }\n",
              "</style>\n",
              "<table border=\"1\" class=\"dataframe\">\n",
              "  <thead>\n",
              "    <tr style=\"text-align: right;\">\n",
              "      <th></th>\n",
              "      <th>user</th>\n",
              "      <th>2021-09-12</th>\n",
              "      <th>2021-09-13</th>\n",
              "      <th>2021-09-14</th>\n",
              "      <th>2021-09-15</th>\n",
              "      <th>2021-09-16</th>\n",
              "      <th>2021-09-17</th>\n",
              "      <th>2021-09-18</th>\n",
              "      <th>2021-09-19</th>\n",
              "      <th>2021-09-20</th>\n",
              "      <th>2021-09-21</th>\n",
              "      <th>2021-09-22</th>\n",
              "      <th>2021-09-23</th>\n",
              "      <th>2021-09-24</th>\n",
              "      <th>2021-09-25</th>\n",
              "      <th>2021-09-26</th>\n",
              "      <th>2021-09-27</th>\n",
              "      <th>2021-09-28</th>\n",
              "      <th>2021-09-29</th>\n",
              "      <th>2021-09-30</th>\n",
              "    </tr>\n",
              "  </thead>\n",
              "  <tbody>\n",
              "    <tr>\n",
              "      <th>0</th>\n",
              "      <td>0-0</td>\n",
              "      <td>5</td>\n",
              "      <td>47</td>\n",
              "      <td>0</td>\n",
              "      <td>0</td>\n",
              "      <td>0</td>\n",
              "      <td>0</td>\n",
              "      <td>0</td>\n",
              "      <td>42</td>\n",
              "      <td>8</td>\n",
              "      <td>0</td>\n",
              "      <td>0</td>\n",
              "      <td>0</td>\n",
              "      <td>0</td>\n",
              "      <td>0</td>\n",
              "      <td>1</td>\n",
              "      <td>0</td>\n",
              "      <td>0</td>\n",
              "      <td>0</td>\n",
              "      <td>0</td>\n",
              "    </tr>\n",
              "    <tr>\n",
              "      <th>1</th>\n",
              "      <td>Brendan7625</td>\n",
              "      <td>0</td>\n",
              "      <td>0</td>\n",
              "      <td>0</td>\n",
              "      <td>0</td>\n",
              "      <td>0</td>\n",
              "      <td>0</td>\n",
              "      <td>100</td>\n",
              "      <td>0</td>\n",
              "      <td>0</td>\n",
              "      <td>0</td>\n",
              "      <td>0</td>\n",
              "      <td>0</td>\n",
              "      <td>0</td>\n",
              "      <td>0</td>\n",
              "      <td>0</td>\n",
              "      <td>0</td>\n",
              "      <td>0</td>\n",
              "      <td>0</td>\n",
              "      <td>0</td>\n",
              "    </tr>\n",
              "    <tr>\n",
              "      <th>2</th>\n",
              "      <td>Dawidluna</td>\n",
              "      <td>0</td>\n",
              "      <td>0</td>\n",
              "      <td>0</td>\n",
              "      <td>0</td>\n",
              "      <td>200</td>\n",
              "      <td>80</td>\n",
              "      <td>0</td>\n",
              "      <td>0</td>\n",
              "      <td>0</td>\n",
              "      <td>32</td>\n",
              "      <td>0</td>\n",
              "      <td>0</td>\n",
              "      <td>0</td>\n",
              "      <td>0</td>\n",
              "      <td>0</td>\n",
              "      <td>0</td>\n",
              "      <td>0</td>\n",
              "      <td>0</td>\n",
              "      <td>0</td>\n",
              "    </tr>\n",
              "    <tr>\n",
              "      <th>3</th>\n",
              "      <td>FortniteDude70</td>\n",
              "      <td>115</td>\n",
              "      <td>180</td>\n",
              "      <td>0</td>\n",
              "      <td>0</td>\n",
              "      <td>0</td>\n",
              "      <td>0</td>\n",
              "      <td>0</td>\n",
              "      <td>0</td>\n",
              "      <td>0</td>\n",
              "      <td>0</td>\n",
              "      <td>0</td>\n",
              "      <td>0</td>\n",
              "      <td>0</td>\n",
              "      <td>204</td>\n",
              "      <td>124</td>\n",
              "      <td>5</td>\n",
              "      <td>10</td>\n",
              "      <td>10</td>\n",
              "      <td>10</td>\n",
              "    </tr>\n",
              "    <tr>\n",
              "      <th>4</th>\n",
              "      <td>GermanMgr14 [ARG]</td>\n",
              "      <td>0</td>\n",
              "      <td>0</td>\n",
              "      <td>0</td>\n",
              "      <td>0</td>\n",
              "      <td>0</td>\n",
              "      <td>0</td>\n",
              "      <td>1</td>\n",
              "      <td>0</td>\n",
              "      <td>0</td>\n",
              "      <td>0</td>\n",
              "      <td>0</td>\n",
              "      <td>0</td>\n",
              "      <td>0</td>\n",
              "      <td>0</td>\n",
              "      <td>0</td>\n",
              "      <td>0</td>\n",
              "      <td>0</td>\n",
              "      <td>0</td>\n",
              "      <td>0</td>\n",
              "    </tr>\n",
              "  </tbody>\n",
              "</table>\n",
              "</div>"
            ],
            "text/plain": [
              "                user  2021-09-12  ...  2021-09-29  2021-09-30\n",
              "0                0-0           5  ...           0           0\n",
              "1        Brendan7625           0  ...           0           0\n",
              "2          Dawidluna           0  ...           0           0\n",
              "3     FortniteDude70         115  ...          10          10\n",
              "4  GermanMgr14 [ARG]           0  ...           0           0\n",
              "\n",
              "[5 rows x 20 columns]"
            ]
          },
          "metadata": {},
          "execution_count": 14
        }
      ]
    },
    {
      "cell_type": "code",
      "metadata": {
        "id": "r9lI_OyRUWjB"
      },
      "source": [
        "counts = group.drop(columns=['user']).values"
      ],
      "execution_count": 15,
      "outputs": []
    },
    {
      "cell_type": "code",
      "metadata": {
        "colab": {
          "base_uri": "https://localhost:8080/",
          "height": 206
        },
        "id": "X2ukwd0aV3us",
        "outputId": "6e7c13a1-82e0-4a20-c404-a5c855e03ac3"
      },
      "source": [
        "group['counts_list'] = counts.tolist()\n",
        "group = group[['user', 'counts_list']]\n",
        "group.head()"
      ],
      "execution_count": 16,
      "outputs": [
        {
          "output_type": "execute_result",
          "data": {
            "text/html": [
              "<div>\n",
              "<style scoped>\n",
              "    .dataframe tbody tr th:only-of-type {\n",
              "        vertical-align: middle;\n",
              "    }\n",
              "\n",
              "    .dataframe tbody tr th {\n",
              "        vertical-align: top;\n",
              "    }\n",
              "\n",
              "    .dataframe thead th {\n",
              "        text-align: right;\n",
              "    }\n",
              "</style>\n",
              "<table border=\"1\" class=\"dataframe\">\n",
              "  <thead>\n",
              "    <tr style=\"text-align: right;\">\n",
              "      <th></th>\n",
              "      <th>user</th>\n",
              "      <th>counts_list</th>\n",
              "    </tr>\n",
              "  </thead>\n",
              "  <tbody>\n",
              "    <tr>\n",
              "      <th>0</th>\n",
              "      <td>0-0</td>\n",
              "      <td>[5, 47, 0, 0, 0, 0, 0, 42, 8, 0, 0, 0, 0, 0, 1...</td>\n",
              "    </tr>\n",
              "    <tr>\n",
              "      <th>1</th>\n",
              "      <td>Brendan7625</td>\n",
              "      <td>[0, 0, 0, 0, 0, 0, 100, 0, 0, 0, 0, 0, 0, 0, 0...</td>\n",
              "    </tr>\n",
              "    <tr>\n",
              "      <th>2</th>\n",
              "      <td>Dawidluna</td>\n",
              "      <td>[0, 0, 0, 0, 200, 80, 0, 0, 0, 32, 0, 0, 0, 0,...</td>\n",
              "    </tr>\n",
              "    <tr>\n",
              "      <th>3</th>\n",
              "      <td>FortniteDude70</td>\n",
              "      <td>[115, 180, 0, 0, 0, 0, 0, 0, 0, 0, 0, 0, 0, 20...</td>\n",
              "    </tr>\n",
              "    <tr>\n",
              "      <th>4</th>\n",
              "      <td>GermanMgr14 [ARG]</td>\n",
              "      <td>[0, 0, 0, 0, 0, 0, 1, 0, 0, 0, 0, 0, 0, 0, 0, ...</td>\n",
              "    </tr>\n",
              "  </tbody>\n",
              "</table>\n",
              "</div>"
            ],
            "text/plain": [
              "                user                                        counts_list\n",
              "0                0-0  [5, 47, 0, 0, 0, 0, 0, 42, 8, 0, 0, 0, 0, 0, 1...\n",
              "1        Brendan7625  [0, 0, 0, 0, 0, 0, 100, 0, 0, 0, 0, 0, 0, 0, 0...\n",
              "2          Dawidluna  [0, 0, 0, 0, 200, 80, 0, 0, 0, 32, 0, 0, 0, 0,...\n",
              "3     FortniteDude70  [115, 180, 0, 0, 0, 0, 0, 0, 0, 0, 0, 0, 0, 20...\n",
              "4  GermanMgr14 [ARG]  [0, 0, 0, 0, 0, 0, 1, 0, 0, 0, 0, 0, 0, 0, 0, ..."
            ]
          },
          "metadata": {},
          "execution_count": 16
        }
      ]
    },
    {
      "cell_type": "markdown",
      "metadata": {
        "id": "z94bFFdWXSKv"
      },
      "source": [
        "### Total 1k days"
      ]
    },
    {
      "cell_type": "code",
      "metadata": {
        "id": "elFVz_rPa-0Q"
      },
      "source": [
        "group['1k_days'] = group['counts_list'].map(lambda x: (np.array(x) >= 1000).sum())\n",
        "total_1kdays = group[['user', '1k_days']].sort_values(by='1k_days', ascending=False).reset_index(drop=True)\n",
        "total_1kdays = total_1kdays[total_1kdays['1k_days']>0]"
      ],
      "execution_count": 17,
      "outputs": []
    },
    {
      "cell_type": "code",
      "metadata": {
        "colab": {
          "base_uri": "https://localhost:8080/",
          "height": 175
        },
        "id": "4yE8eodvXUKU",
        "outputId": "9ed6bf3c-2785-4c63-cbb7-5b68dffb3c22"
      },
      "source": [
        "total_1kdays"
      ],
      "execution_count": 18,
      "outputs": [
        {
          "output_type": "execute_result",
          "data": {
            "text/html": [
              "<div>\n",
              "<style scoped>\n",
              "    .dataframe tbody tr th:only-of-type {\n",
              "        vertical-align: middle;\n",
              "    }\n",
              "\n",
              "    .dataframe tbody tr th {\n",
              "        vertical-align: top;\n",
              "    }\n",
              "\n",
              "    .dataframe thead th {\n",
              "        text-align: right;\n",
              "    }\n",
              "</style>\n",
              "<table border=\"1\" class=\"dataframe\">\n",
              "  <thead>\n",
              "    <tr style=\"text-align: right;\">\n",
              "      <th></th>\n",
              "      <th>user</th>\n",
              "      <th>1k_days</th>\n",
              "    </tr>\n",
              "  </thead>\n",
              "  <tbody>\n",
              "    <tr>\n",
              "      <th>0</th>\n",
              "      <td>Whit4You</td>\n",
              "      <td>8</td>\n",
              "    </tr>\n",
              "    <tr>\n",
              "      <th>1</th>\n",
              "      <td>brainlet</td>\n",
              "      <td>7</td>\n",
              "    </tr>\n",
              "    <tr>\n",
              "      <th>2</th>\n",
              "      <td>ob69jl</td>\n",
              "      <td>1</td>\n",
              "    </tr>\n",
              "    <tr>\n",
              "      <th>3</th>\n",
              "      <td>const</td>\n",
              "      <td>1</td>\n",
              "    </tr>\n",
              "  </tbody>\n",
              "</table>\n",
              "</div>"
            ],
            "text/plain": [
              "       user  1k_days\n",
              "0  Whit4You        8\n",
              "1  brainlet        7\n",
              "2    ob69jl        1\n",
              "3     const        1"
            ]
          },
          "metadata": {},
          "execution_count": 18
        }
      ]
    },
    {
      "cell_type": "markdown",
      "metadata": {
        "id": "UkfmijPMaukW"
      },
      "source": [
        "## Max 1k streak"
      ]
    },
    {
      "cell_type": "code",
      "metadata": {
        "id": "P_d5gvkDa6K4"
      },
      "source": [
        "def get_max_streak(counts_list):\n",
        "    bool_array = np.array(counts_list) >= 1000\n",
        "    bool_array = np.split(bool_array, np.where(np.diff(bool_array) != 0)[0]+1)\n",
        "    bool_array = list(filter(lambda x: x[0], bool_array))\n",
        "    bool_array = [x.shape[0] for x in bool_array]\n",
        "    return max(bool_array) if len(bool_array) > 0 else 0"
      ],
      "execution_count": 19,
      "outputs": []
    },
    {
      "cell_type": "code",
      "metadata": {
        "id": "97I9atI_a69C"
      },
      "source": [
        "group['max_streak'] = group['counts_list'].map(get_max_streak)"
      ],
      "execution_count": 20,
      "outputs": []
    },
    {
      "cell_type": "code",
      "metadata": {
        "id": "YZfmKraCa7ty"
      },
      "source": [
        "max_streak = group[['user', 'max_streak']].sort_values(by='max_streak', ascending=False).reset_index(drop=True)\n",
        "max_streak = max_streak[max_streak['max_streak']>0]"
      ],
      "execution_count": 21,
      "outputs": []
    },
    {
      "cell_type": "code",
      "metadata": {
        "colab": {
          "base_uri": "https://localhost:8080/",
          "height": 175
        },
        "id": "W7V5bIaSarF7",
        "outputId": "978fb2df-dcfc-4b95-efbd-2b898c5f6787"
      },
      "source": [
        "max_streak"
      ],
      "execution_count": 22,
      "outputs": [
        {
          "output_type": "execute_result",
          "data": {
            "text/html": [
              "<div>\n",
              "<style scoped>\n",
              "    .dataframe tbody tr th:only-of-type {\n",
              "        vertical-align: middle;\n",
              "    }\n",
              "\n",
              "    .dataframe tbody tr th {\n",
              "        vertical-align: top;\n",
              "    }\n",
              "\n",
              "    .dataframe thead th {\n",
              "        text-align: right;\n",
              "    }\n",
              "</style>\n",
              "<table border=\"1\" class=\"dataframe\">\n",
              "  <thead>\n",
              "    <tr style=\"text-align: right;\">\n",
              "      <th></th>\n",
              "      <th>user</th>\n",
              "      <th>max_streak</th>\n",
              "    </tr>\n",
              "  </thead>\n",
              "  <tbody>\n",
              "    <tr>\n",
              "      <th>0</th>\n",
              "      <td>brainlet</td>\n",
              "      <td>6</td>\n",
              "    </tr>\n",
              "    <tr>\n",
              "      <th>1</th>\n",
              "      <td>Whit4You</td>\n",
              "      <td>3</td>\n",
              "    </tr>\n",
              "    <tr>\n",
              "      <th>2</th>\n",
              "      <td>ob69jl</td>\n",
              "      <td>1</td>\n",
              "    </tr>\n",
              "    <tr>\n",
              "      <th>3</th>\n",
              "      <td>const</td>\n",
              "      <td>1</td>\n",
              "    </tr>\n",
              "  </tbody>\n",
              "</table>\n",
              "</div>"
            ],
            "text/plain": [
              "       user  max_streak\n",
              "0  brainlet           6\n",
              "1  Whit4You           3\n",
              "2    ob69jl           1\n",
              "3     const           1"
            ]
          },
          "metadata": {},
          "execution_count": 22
        }
      ]
    }
  ]
}